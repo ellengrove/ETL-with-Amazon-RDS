{
  "nbformat": 4,
  "nbformat_minor": 0,
  "metadata": {
    "colab": {
      "name": "appliances_reviews.ipynb",
      "provenance": [],
      "collapsed_sections": []
    },
    "kernelspec": {
      "name": "python3",
      "display_name": "Python 3"
    },
    "language_info": {
      "name": "python"
    }
  },
  "cells": [
    {
      "cell_type": "code",
      "execution_count": 41,
      "metadata": {
        "colab": {
          "base_uri": "https://localhost:8080/"
        },
        "id": "MtNV0XZ6XepZ",
        "outputId": "f78ee5cf-b448-438f-b90f-f3f20811bd1a"
      },
      "outputs": [
        {
          "output_type": "stream",
          "name": "stdout",
          "text": [
            "\r0% [Working]\r            \rIgn:1 https://developer.download.nvidia.com/compute/machine-learning/repos/ubuntu1804/x86_64  InRelease\n",
            "\r0% [Connecting to archive.ubuntu.com (185.125.190.39)] [Connecting to security.\r                                                                               \rHit:2 https://developer.download.nvidia.com/compute/cuda/repos/ubuntu1804/x86_64  InRelease\n",
            "\r0% [Connecting to archive.ubuntu.com (185.125.190.39)] [Waiting for headers] [C\r0% [2 InRelease gpgv 1,581 B] [Connecting to archive.ubuntu.com (185.125.190.39\r                                                                               \rHit:3 https://developer.download.nvidia.com/compute/machine-learning/repos/ubuntu1804/x86_64  Release\n",
            "Hit:4 http://security.ubuntu.com/ubuntu bionic-security InRelease\n",
            "Hit:5 http://archive.ubuntu.com/ubuntu bionic InRelease\n",
            "Hit:7 http://ppa.launchpad.net/c2d4u.team/c2d4u4.0+/ubuntu bionic InRelease\n",
            "Hit:8 http://archive.ubuntu.com/ubuntu bionic-updates InRelease\n",
            "Hit:9 http://archive.ubuntu.com/ubuntu bionic-backports InRelease\n",
            "Hit:10 https://cloud.r-project.org/bin/linux/ubuntu bionic-cran40/ InRelease\n",
            "Hit:11 http://ppa.launchpad.net/cran/libgit2/ubuntu bionic InRelease\n",
            "Hit:12 http://ppa.launchpad.net/deadsnakes/ppa/ubuntu bionic InRelease\n",
            "Hit:13 http://ppa.launchpad.net/graphics-drivers/ppa/ubuntu bionic InRelease\n",
            "Reading package lists... Done\n"
          ]
        }
      ],
      "source": [
        "import os\n",
        "# Find the latest version of spark 3.0  from http://www.apache.org/dist/spark/ and enter as the spark version\n",
        "spark_version = 'spark-3.0.3'\n",
        "os.environ['SPARK_VERSION']=spark_version\n",
        "\n",
        "# Install Spark and Java\n",
        "!apt-get update\n",
        "!apt-get install openjdk-8-jdk-headless -qq > /dev/null\n",
        "!wget -q http://www.apache.org/dist/spark/$SPARK_VERSION/$SPARK_VERSION-bin-hadoop2.7.tgz\n",
        "!tar xf $SPARK_VERSION-bin-hadoop2.7.tgz\n",
        "!pip install -q findspark\n",
        "\n",
        "# Set Environment Variables\n",
        "os.environ[\"JAVA_HOME\"] = \"/usr/lib/jvm/java-8-openjdk-amd64\"\n",
        "os.environ[\"SPARK_HOME\"] = f\"/content/{spark_version}-bin-hadoop2.7\"\n",
        "\n",
        "# Start a SparkSession\n",
        "import findspark\n",
        "findspark.init()"
      ]
    },
    {
      "cell_type": "code",
      "source": [
        "!wget https://jdbc.postgresql.org/download/postgresql-42.2.9.jar"
      ],
      "metadata": {
        "colab": {
          "base_uri": "https://localhost:8080/"
        },
        "id": "u0wa03aIX2WM",
        "outputId": "c2ea40e6-6663-4baf-f2d3-29c8908b256e"
      },
      "execution_count": 42,
      "outputs": [
        {
          "output_type": "stream",
          "name": "stdout",
          "text": [
            "--2022-08-11 23:21:23--  https://jdbc.postgresql.org/download/postgresql-42.2.9.jar\n",
            "Resolving jdbc.postgresql.org (jdbc.postgresql.org)... 72.32.157.228, 2001:4800:3e1:1::228\n",
            "Connecting to jdbc.postgresql.org (jdbc.postgresql.org)|72.32.157.228|:443... connected.\n",
            "HTTP request sent, awaiting response... 200 OK\n",
            "Length: 914037 (893K) [application/java-archive]\n",
            "Saving to: ‘postgresql-42.2.9.jar.2’\n",
            "\n",
            "postgresql-42.2.9.j 100%[===================>] 892.61K  2.84MB/s    in 0.3s    \n",
            "\n",
            "2022-08-11 23:21:24 (2.84 MB/s) - ‘postgresql-42.2.9.jar.2’ saved [914037/914037]\n",
            "\n"
          ]
        }
      ]
    },
    {
      "cell_type": "code",
      "source": [
        "from pyspark.sql import SparkSession\n",
        "spark = SparkSession.builder.appName(\"CloudETL\").config(\"spark.driver.extraClassPath\",\"/content/postgresql-42.2.9.jar\").getOrCreate()"
      ],
      "metadata": {
        "id": "jrxrL79kX_74"
      },
      "execution_count": 43,
      "outputs": []
    },
    {
      "cell_type": "code",
      "source": [
        "from pyspark import SparkFiles\n",
        "# Load in dataset from S3 into a DataFrame\n",
        "url = \"https://s3.amazonaws.com/amazon-reviews-pds/tsv/amazon_reviews_us_Major_Appliances_v1_00.tsv.gz\"\n",
        "spark.sparkContext.addFile(url)\n",
        "\n",
        "appliances_df = spark.read.option('header', 'true').csv(SparkFiles.get(\"amazon_reviews_us_Major_Appliances_v1_00.tsv.gz\"), inferSchema=True, sep='\\t', timestampFormat=\"mm/dd/yy\")\n",
        "appliances_df.show(10)"
      ],
      "metadata": {
        "colab": {
          "base_uri": "https://localhost:8080/"
        },
        "id": "GrE9ZBBZYBR2",
        "outputId": "1fa45cfc-9e64-4533-ea69-1d47375c9a01"
      },
      "execution_count": 44,
      "outputs": [
        {
          "output_type": "stream",
          "name": "stdout",
          "text": [
            "+-----------+-----------+--------------+----------+--------------+--------------------+----------------+-----------+-------------+-----------+----+-----------------+--------------------+--------------------+-----------+\n",
            "|marketplace|customer_id|     review_id|product_id|product_parent|       product_title|product_category|star_rating|helpful_votes|total_votes|vine|verified_purchase|     review_headline|         review_body|review_date|\n",
            "+-----------+-----------+--------------+----------+--------------+--------------------+----------------+-----------+-------------+-----------+----+-----------------+--------------------+--------------------+-----------+\n",
            "|         US|   16199106|R203HPW78Z7N4K|B0067WNSZY|     633038551|FGGF3032MW Galler...|Major Appliances|          5|            0|          0|   N|                Y|If you need a new...|What a great stov...| 2015-08-31|\n",
            "|         US|   16374060|R2EAIGVLEALSP3|B002QSXK60|     811766671|Best Hand Clothes...|Major Appliances|          5|            1|          1|   N|                Y|          Five Stars|        worked great| 2015-08-31|\n",
            "|         US|   15322085|R1K1CD73HHLILA|B00EC452R6|     345562728|Supco SET184 Ther...|Major Appliances|          5|            0|          0|   N|                Y|       Fast Shipping|Part exactly what...| 2015-08-31|\n",
            "|         US|   32004835|R2KZBMOFRMYOPO|B00MVVIF2G|     563052763|Midea WHS-160RB1 ...|Major Appliances|          5|            1|          1|   N|                Y|          Five Stars|Love my refrigera...| 2015-08-31|\n",
            "|         US|   25414497| R6BIZOZY6UD01|B00IY7BNUW|     874236579|Avalon Bay Portab...|Major Appliances|          5|            0|          0|   N|                Y|          Five Stars|No more running t...| 2015-08-31|\n",
            "|         US|   36311751|R1MCXZFNF8E7Y0|B0033X29CI|     294467812|Danby  Freestandi...|Major Appliances|          1|            0|          0|   N|                Y|       Piece of Junk|It would not cool...| 2015-08-31|\n",
            "|         US|   30920961|R3EMB3E3ODR6BW|B005R597HA|     183784715|Avanti 110-Volt A...|Major Appliances|          5|            2|          2|   N|                Y|Works awesome for...|Works awesome for...| 2015-08-31|\n",
            "|         US|   52491265| RJTONVTTOPJ5S|B00MO6V8Y0|     960251524|      Danby products|Major Appliances|          5|            0|          0|   N|                Y|          Five Stars|exactly what I wa...| 2015-08-31|\n",
            "|         US|   48166169|R21U5QZ2CQECUM|B00HT39QDI|     992475314|3 Pack Tier1 MSWF...|Major Appliances|          4|            0|          0|   N|                Y|          Four Stars|       AS advertised| 2015-08-31|\n",
            "|         US|   50394924| RL2BBC51H89DH|B00LESFZ52|       1641606|True TSSU-60-16 6...|Major Appliances|          4|            0|          0|   N|                Y|but has poor insu...|It works as adver...| 2015-08-31|\n",
            "+-----------+-----------+--------------+----------+--------------+--------------------+----------------+-----------+-------------+-----------+----+-----------------+--------------------+--------------------+-----------+\n",
            "only showing top 10 rows\n",
            "\n"
          ]
        }
      ]
    },
    {
      "cell_type": "code",
      "source": [
        "print(f'Total appliances product reviews: {appliances_df.count()}')"
      ],
      "metadata": {
        "colab": {
          "base_uri": "https://localhost:8080/"
        },
        "id": "r7iMLRlOwiTX",
        "outputId": "60ba4755-3167-4612-8618-77e1f6ecf19d"
      },
      "execution_count": 45,
      "outputs": [
        {
          "output_type": "stream",
          "name": "stdout",
          "text": [
            "Total appliances product reviews: 96901\n"
          ]
        }
      ]
    },
    {
      "cell_type": "code",
      "source": [
        "from pyspark.sql.functions import *\n",
        "\n",
        "# Make outdoors review id dataframe and convert review date variable to date\n",
        "appliances_review_ids = appliances_df.select(col(\"review_id\"),col(\"customer_id\"),col(\"product_id\"),\n",
        "                               col(\"product_parent\"),to_date(col(\"review_date\"),\"yyyy-mm-dd\").alias('review_date'))"
      ],
      "metadata": {
        "id": "A4HHYTCMkr3S"
      },
      "execution_count": 46,
      "outputs": []
    },
    {
      "cell_type": "code",
      "source": [
        "# Verify datatypes\n",
        "appliances_review_ids.dtypes"
      ],
      "metadata": {
        "colab": {
          "base_uri": "https://localhost:8080/"
        },
        "id": "P-rZpyd9inGc",
        "outputId": "f93f072a-cb53-466f-e568-9d3aeac481cc"
      },
      "execution_count": 47,
      "outputs": [
        {
          "output_type": "execute_result",
          "data": {
            "text/plain": [
              "[('review_id', 'string'),\n",
              " ('customer_id', 'int'),\n",
              " ('product_id', 'string'),\n",
              " ('product_parent', 'int'),\n",
              " ('review_date', 'date')]"
            ]
          },
          "metadata": {},
          "execution_count": 47
        }
      ]
    },
    {
      "cell_type": "code",
      "source": [
        "# View table\n",
        "appliances_review_ids.show(10)"
      ],
      "metadata": {
        "colab": {
          "base_uri": "https://localhost:8080/"
        },
        "id": "8k7NIvyyiw_Z",
        "outputId": "ea610966-6087-4e98-c691-f5bab3e974a9"
      },
      "execution_count": 48,
      "outputs": [
        {
          "output_type": "stream",
          "name": "stdout",
          "text": [
            "+--------------+-----------+----------+--------------+-----------+\n",
            "|     review_id|customer_id|product_id|product_parent|review_date|\n",
            "+--------------+-----------+----------+--------------+-----------+\n",
            "|R203HPW78Z7N4K|   16199106|B0067WNSZY|     633038551| 2015-01-31|\n",
            "|R2EAIGVLEALSP3|   16374060|B002QSXK60|     811766671| 2015-01-31|\n",
            "|R1K1CD73HHLILA|   15322085|B00EC452R6|     345562728| 2015-01-31|\n",
            "|R2KZBMOFRMYOPO|   32004835|B00MVVIF2G|     563052763| 2015-01-31|\n",
            "| R6BIZOZY6UD01|   25414497|B00IY7BNUW|     874236579| 2015-01-31|\n",
            "|R1MCXZFNF8E7Y0|   36311751|B0033X29CI|     294467812| 2015-01-31|\n",
            "|R3EMB3E3ODR6BW|   30920961|B005R597HA|     183784715| 2015-01-31|\n",
            "| RJTONVTTOPJ5S|   52491265|B00MO6V8Y0|     960251524| 2015-01-31|\n",
            "|R21U5QZ2CQECUM|   48166169|B00HT39QDI|     992475314| 2015-01-31|\n",
            "| RL2BBC51H89DH|   50394924|B00LESFZ52|       1641606| 2015-01-31|\n",
            "+--------------+-----------+----------+--------------+-----------+\n",
            "only showing top 10 rows\n",
            "\n"
          ]
        }
      ]
    },
    {
      "cell_type": "code",
      "source": [
        "# Make appliances products table\n",
        "appliances_products = appliances_df[['product_id','product_title']]"
      ],
      "metadata": {
        "id": "pCiMQhYll1nW"
      },
      "execution_count": 49,
      "outputs": []
    },
    {
      "cell_type": "code",
      "source": [
        "# Check number of rows\n",
        "print(f'Number of rows before duplicates removed: {appliances_products.count()}')\n",
        "\n",
        "# Drop duplicate rows\n",
        "appliances_products = appliances_products.drop_duplicates()\n",
        "\n",
        "# Check number of rows after duplicates removed \n",
        "print(f'Number of rows after duplicates removed: {appliances_products.count()}')"
      ],
      "metadata": {
        "colab": {
          "base_uri": "https://localhost:8080/"
        },
        "id": "xRbHNZvfmN8q",
        "outputId": "00d8c231-4cc8-45ff-e260-08e5587582a6"
      },
      "execution_count": 50,
      "outputs": [
        {
          "output_type": "stream",
          "name": "stdout",
          "text": [
            "Number of rows before duplicates removed: 96901\n",
            "Number of rows after duplicates removed: 11694\n"
          ]
        }
      ]
    },
    {
      "cell_type": "code",
      "source": [
        "# Check if there are more than one listing of a certain product id\n",
        "appliances_products\\\n",
        "        .groupby('product_id')\\\n",
        "        .agg(count('product_id').alias('product_count'))\\\n",
        "        .sort(desc('product_count'))\\\n",
        "        .show()"
      ],
      "metadata": {
        "colab": {
          "base_uri": "https://localhost:8080/"
        },
        "id": "anVTIawUwIIo",
        "outputId": "2c7ec2b2-3d62-4401-e79d-247e01d2ef7c"
      },
      "execution_count": 51,
      "outputs": [
        {
          "output_type": "stream",
          "name": "stdout",
          "text": [
            "+----------+-------------+\n",
            "|product_id|product_count|\n",
            "+----------+-------------+\n",
            "|B00BMZTZ8K|            1|\n",
            "|B002ACEF9S|            1|\n",
            "|B00181J2Z4|            1|\n",
            "|B005DR8KLG|            1|\n",
            "|B001DC9OQU|            1|\n",
            "|B004NO17W4|            1|\n",
            "|B00CLHIE4O|            1|\n",
            "|B002W8HB32|            1|\n",
            "|B003MQ7POI|            1|\n",
            "|B003GFAY5C|            1|\n",
            "|B00D2ZOIQW|            1|\n",
            "|B00CM6IXCC|            1|\n",
            "|B001QJL9HC|            1|\n",
            "|B0074WFW28|            1|\n",
            "|B00P1J6N2O|            1|\n",
            "|B0011YNG3M|            1|\n",
            "|B001VMMSZ6|            1|\n",
            "|B001DPT8JU|            1|\n",
            "|B001QUP78I|            1|\n",
            "|B00VVH5XY4|            1|\n",
            "+----------+-------------+\n",
            "only showing top 20 rows\n",
            "\n"
          ]
        }
      ]
    },
    {
      "cell_type": "code",
      "source": [
        "# Create appliances customers table and count number of times each customer has left a review\n",
        "appliances_customers = appliances_df.groupby(\"customer_id\").count()"
      ],
      "metadata": {
        "id": "BEilvYHnpnsF"
      },
      "execution_count": 52,
      "outputs": []
    },
    {
      "cell_type": "code",
      "source": [
        "# View table\n",
        "appliances_customers.show()"
      ],
      "metadata": {
        "colab": {
          "base_uri": "https://localhost:8080/"
        },
        "id": "JO5QGlP0r4rD",
        "outputId": "9ee441ff-9bde-40e8-db7c-291d5ca3aeeb"
      },
      "execution_count": 53,
      "outputs": [
        {
          "output_type": "stream",
          "name": "stdout",
          "text": [
            "+-----------+-----+\n",
            "|customer_id|count|\n",
            "+-----------+-----+\n",
            "|   13326061|    1|\n",
            "|   52512151|    1|\n",
            "|    8968933|    1|\n",
            "|   39416583|    1|\n",
            "|   21737233|    1|\n",
            "|   44119972|    1|\n",
            "|   13947800|    1|\n",
            "|   21482558|    1|\n",
            "|    2802853|    1|\n",
            "|   18518845|    1|\n",
            "|     122484|    1|\n",
            "|   14035069|    1|\n",
            "|   20004191|    1|\n",
            "|   16699322|    1|\n",
            "|   24768141|    1|\n",
            "|   24424556|    1|\n",
            "|   44293588|    1|\n",
            "|   13188682|    1|\n",
            "|   23298840|    1|\n",
            "|   50731398|    1|\n",
            "+-----------+-----+\n",
            "only showing top 20 rows\n",
            "\n"
          ]
        }
      ]
    },
    {
      "cell_type": "code",
      "source": [
        "# Rename count column\n",
        "appliances_customers = appliances_customers.withColumnRenamed('count','customer_count')\n",
        "appliances_customers.show()"
      ],
      "metadata": {
        "colab": {
          "base_uri": "https://localhost:8080/"
        },
        "id": "XumONGapv9eU",
        "outputId": "3f7151b7-ebe6-4349-cbcd-3ea33f4e9980"
      },
      "execution_count": 55,
      "outputs": [
        {
          "output_type": "stream",
          "name": "stdout",
          "text": [
            "+-----------+--------------+\n",
            "|customer_id|customer_count|\n",
            "+-----------+--------------+\n",
            "|   13326061|             1|\n",
            "|   52512151|             1|\n",
            "|    8968933|             1|\n",
            "|   39416583|             1|\n",
            "|   21737233|             1|\n",
            "|   44119972|             1|\n",
            "|   13947800|             1|\n",
            "|   21482558|             1|\n",
            "|    2802853|             1|\n",
            "|   18518845|             1|\n",
            "|     122484|             1|\n",
            "|   14035069|             1|\n",
            "|   20004191|             1|\n",
            "|   16699322|             1|\n",
            "|   24768141|             1|\n",
            "|   24424556|             1|\n",
            "|   44293588|             1|\n",
            "|   13188682|             1|\n",
            "|   23298840|             1|\n",
            "|   50731398|             1|\n",
            "+-----------+--------------+\n",
            "only showing top 20 rows\n",
            "\n"
          ]
        }
      ]
    },
    {
      "cell_type": "code",
      "source": [
        "# Configuration for RDS instance\n",
        "mode=\"append\"\n",
        "jdbc_url = \"jdbc:postgresql://reviewsdb.csumjblrdtra.us-west-2.rds.amazonaws.com:5432/reviews_db\"\n",
        "config = {\"user\":\"<user>\",\n",
        "          \"password\": \"<password>\",\n",
        "          \"driver\":\"org.postgresql.Driver\"}"
      ],
      "metadata": {
        "id": "37XTt3UJ2mTX"
      },
      "execution_count": 56,
      "outputs": []
    },
    {
      "cell_type": "code",
      "source": [
        "# Write appliances_review_ids to table\n",
        "appliances_review_ids.write.jdbc(url=jdbc_url, table='review_id_table', mode=mode, properties=config)"
      ],
      "metadata": {
        "id": "601ddKHD3i1T"
      },
      "execution_count": 57,
      "outputs": []
    },
    {
      "cell_type": "code",
      "source": [
        "# Write appliances_products to table\n",
        "appliances_products.write.jdbc(url=jdbc_url, table='products', mode=mode, properties=config)"
      ],
      "metadata": {
        "id": "WekyRtmCA6lh"
      },
      "execution_count": 58,
      "outputs": []
    },
    {
      "cell_type": "code",
      "source": [
        "# Write appliances_customers to table\n",
        "appliances_customers.write.jdbc(url=jdbc_url, table='customers', mode=mode, properties=config)"
      ],
      "metadata": {
        "id": "KAiIGwOQA8Ki"
      },
      "execution_count": 59,
      "outputs": []
    }
  ]
}